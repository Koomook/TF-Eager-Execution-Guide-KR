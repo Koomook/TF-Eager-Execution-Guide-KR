{
 "cells": [
  {
   "cell_type": "code",
   "execution_count": 1,
   "metadata": {},
   "outputs": [],
   "source": [
    "# Import TensorFlow.\n",
    "import tensorflow as tf\n",
    "\n",
    "# Import TensorFlow eager execution support (subject to future changes).\n",
    "import tensorflow.contrib.eager as tfe\n",
    "\n",
    "# Enable eager execution.\n",
    "tfe.enable_eager_execution()"
   ]
  },
  {
   "cell_type": "code",
   "execution_count": 2,
   "metadata": {},
   "outputs": [],
   "source": [
    "# The constants we'll try to fit our variables to:\n",
    "true_w = 3\n",
    "true_b = 2\n",
    "\n",
    "NUM_EXAMPLES = 1000\n",
    "\n",
    "# Our inputs:\n",
    "inputs = tf.random_normal(shape=[NUM_EXAMPLES, 1])\n",
    "\n",
    "# Our labels, with noise:\n",
    "noise = tf.random_normal(shape=[NUM_EXAMPLES, 1])\n",
    "labels = inputs * true_w + true_b + noise"
   ]
  },
  {
   "cell_type": "code",
   "execution_count": 4,
   "metadata": {},
   "outputs": [
    {
     "data": {
      "image/png": "[encoded data removed]",
      "text/plain": [
       "<matplotlib.figure.Figure at 0x7f7e0c767f98>"
      ]
     },
     "metadata": {},
     "output_type": "display_data"
    }
   ],
   "source": [
    "# Plot the Data (Optional)\n",
    "\n",
    "import matplotlib.pyplot as plt\n",
    "%matplotlib inline\n",
    "\n",
    "plt.scatter(inputs.numpy(), labels.numpy())\n",
    "plt.show()"
   ]
  },
  {
   "cell_type": "code",
   "execution_count": 5,
   "metadata": {},
   "outputs": [
    {
     "data": {
      "text/plain": [
       "[]"
      ]
     },
     "execution_count": 5,
     "metadata": {},
     "output_type": "execute_result"
    }
   ],
   "source": [
    "# Create TensorFlow Variables using Keras's Dense layer.\n",
    "\n",
    "wb = tf.layers.Dense(units=1, use_bias=True)\n",
    "\n",
    "# We can access the underlying TensorFlow variables using wb.variables.\n",
    "# However, the variables won't exist until the dimensions of the input\n",
    "# tensors are known. Once the dimensions of the input tensors are known,\n",
    "# Keras can create and initialize the variables. Until then, Keras will\n",
    "# report the variables as an empty list: [].\n",
    "\n",
    "wb.variables"
   ]
  },
  {
   "cell_type": "code",
   "execution_count": 6,
   "metadata": {},
   "outputs": [],
   "source": [
    "def loss_fn(inputs, labels, wb):\n",
    "  \"\"\"Calculates the mean L2 loss for our linear model.\"\"\"\n",
    "  predictions = wb(inputs)\n",
    "  return tf.reduce_mean(tf.square(predictions - labels))"
   ]
  },
  {
   "cell_type": "code",
   "execution_count": 7,
   "metadata": {},
   "outputs": [
    {
     "data": {
      "text/plain": [
       "<tf.Tensor: id=49, shape=(), dtype=float32, numpy=24.200489>"
      ]
     },
     "execution_count": 7,
     "metadata": {},
     "output_type": "execute_result"
    }
   ],
   "source": [
    "# Test loss function (optional).\n",
    "\n",
    "loss_fn(inputs, labels, wb)"
   ]
  },
  {
   "cell_type": "code",
   "execution_count": 8,
   "metadata": {},
   "outputs": [
    {
     "name": "stdout",
     "output_type": "stream",
     "text": [
      "w: tf.Tensor([[-1.4767215]], shape=(1, 1), dtype=float32)\n",
      "b: tf.Tensor([0.], shape=(1,), dtype=float32)\n"
     ]
    }
   ],
   "source": [
    "# At this point, the variables exist, and can now be queried:\n",
    "\n",
    "w, b = wb.variables\n",
    "print(\"w: \" + str(w.read_value()))\n",
    "print(\"b: \" + str(b.read_value()))"
   ]
  },
  {
   "cell_type": "code",
   "execution_count": 9,
   "metadata": {},
   "outputs": [],
   "source": [
    "# Produce our gradients function. See description above for details about\n",
    "# the returned function's signature.\n",
    "\n",
    "value_and_gradients_fn = tfe.implicit_value_and_gradients(loss_fn)"
   ]
  },
  {
   "cell_type": "code",
   "execution_count": 10,
   "metadata": {},
   "outputs": [
    {
     "name": "stdout",
     "output_type": "stream",
     "text": [
      "Outputs of value_and_gradients_fn:\n",
      "Loss: 24.200489044189453\n",
      "\n",
      "Gradient: [[-8.787546]]\n",
      "Variable: <tf.Variable 'dense/kernel:0' shape=(1, 1) dtype=float32, numpy=array([[-1.4767215]], dtype=float32)>\n",
      "\n",
      "Gradient: [-3.643493]\n",
      "Variable: <tf.Variable 'dense/bias:0' shape=(1,) dtype=float32, numpy=array([0.], dtype=float32)>\n"
     ]
    }
   ],
   "source": [
    "# Show outputs of value_and_gradients_fn.\n",
    "\n",
    "print(\"Outputs of value_and_gradients_fn:\")\n",
    "\n",
    "value, grads_and_vars = value_and_gradients_fn(inputs, labels, wb)\n",
    "\n",
    "print('Loss: {}'.format(value))\n",
    "for (grad, var) in grads_and_vars:\n",
    "  print(\"\")\n",
    "  print('Gradient: {}\\nVariable: {}'.format(grad, var))"
   ]
  },
  {
   "cell_type": "code",
   "execution_count": 11,
   "metadata": {},
   "outputs": [],
   "source": [
    "optimizer = tf.train.GradientDescentOptimizer(learning_rate=0.1)"
   ]
  },
  {
   "cell_type": "code",
   "execution_count": 12,
   "metadata": {},
   "outputs": [
    {
     "name": "stdout",
     "output_type": "stream",
     "text": [
      "Values of w, b, BEFORE applying gradients:\n",
      "[[-1.4767215]] [0.]\n",
      "\n",
      "Values of w, b, AFTER applying gradients:\n",
      "[[-0.5979669]] [0.3643493]\n"
     ]
    }
   ],
   "source": [
    "# Test the optimizer.\n",
    "\n",
    "print(\"Values of w, b, BEFORE applying gradients:\")\n",
    "w, b = wb.variables\n",
    "print(w.read_value().numpy(), b.read_value().numpy())\n",
    "print()\n",
    "\n",
    "# Calculate the gradients:\n",
    "empirical_loss, gradients_and_variables = value_and_gradients_fn(\n",
    "    inputs, labels, wb)\n",
    "optimizer.apply_gradients(gradients_and_variables)\n",
    "\n",
    "print(\"Values of w, b, AFTER applying gradients:\")\n",
    "print(w.read_value().numpy(), b.read_value().numpy())"
   ]
  },
  {
   "cell_type": "code",
   "execution_count": 13,
   "metadata": {},
   "outputs": [
    {
     "name": "stdout",
     "output_type": "stream",
     "text": [
      "[0.1072838306427002, 0.6733308434486389, 1.1276848316192627, 1.4924124479293823, 1.7852153778076172, 2.020294666290283, 2.2090437412261963, 2.3606045246124268, 2.4823126792907715, 2.5800554752349854]\n"
     ]
    },
    {
     "data": {
      "image/png": "[encoded data removed]",
      "text/plain": [
       "<matplotlib.figure.Figure at 0x7f7e471ce240>"
      ]
     },
     "metadata": {},
     "output_type": "display_data"
    }
   ],
   "source": [
    "# Train our variables.\n",
    "\n",
    "# numpy is used for its asscalar() function.\n",
    "import numpy as np\n",
    "\n",
    "num_training_steps = 10\n",
    "\n",
    "def train_model(inputs, labels, wb, optimizer, num_training_steps):\n",
    "  loss_at_step = []\n",
    "  w_at_step = []\n",
    "  b_at_step = []\n",
    "  for step_num in range(num_training_steps):\n",
    "    loss, gradients_and_variables = value_and_gradients_fn(inputs, labels, wb)\n",
    "    loss_at_step.append(np.asscalar(loss.numpy()))\n",
    "    \n",
    "    optimizer.apply_gradients(gradients_and_variables)\n",
    "    w, b = wb.variables\n",
    "    w_at_step.append(np.asscalar(w.read_value().numpy()))\n",
    "    b_at_step.append(np.asscalar(b.read_value().numpy()))\n",
    "\n",
    "  print(w_at_step)\n",
    "  t = range(0, num_training_steps)\n",
    "  plt.plot(t, loss_at_step, 'k',\n",
    "           t, w_at_step, 'r',\n",
    "           t, [true_w] * num_training_steps, 'r--',\n",
    "           t, b_at_step, 'b',\n",
    "           t, [true_b] * num_training_steps, 'b--')\n",
    "  plt.legend(['loss', 'w estimate', 'w true', 'b estimate', 'b true'])\n",
    "  plt.show()\n",
    "\n",
    "train_model(inputs, labels, wb, optimizer, num_training_steps)"
   ]
  },
  {
   "cell_type": "code",
   "execution_count": 14,
   "metadata": {},
   "outputs": [
    {
     "data": {
      "text/plain": [
       "[(<tf.Tensor: id=541, shape=(1, 1), dtype=float32, numpy=array([[-0.7850183]], dtype=float32)>,\n",
       "  <tf.Variable 'dense/kernel:0' shape=(1, 1) dtype=float32, numpy=array([[2.5800555]], dtype=float32)>),\n",
       " (<tf.Tensor: id=539, shape=(1,), dtype=float32, numpy=array([-0.3927026], dtype=float32)>,\n",
       "  <tf.Variable 'dense/bias:0' shape=(1,) dtype=float32, numpy=array([1.7785621], dtype=float32)>)]"
      ]
     },
     "execution_count": 14,
     "metadata": {},
     "output_type": "execute_result"
    }
   ],
   "source": [
    "# tfe.implicit_gradients() demo\n",
    "gradients_fn = tfe.implicit_gradients(loss_fn)\n",
    "\n",
    "# Returns only gradients and variables:\n",
    "gradients_fn(inputs, labels, wb)"
   ]
  },
  {
   "cell_type": "code",
   "execution_count": 15,
   "metadata": {},
   "outputs": [
    {
     "data": {
      "text/plain": [
       "(<tf.Tensor: id=557, shape=(), dtype=float32, numpy=1.1942993>,\n",
       " [(<tf.Tensor: id=579, shape=(1, 1), dtype=float32, numpy=array([[-0.7850183]], dtype=float32)>,\n",
       "   <tf.Variable 'dense/kernel:0' shape=(1, 1) dtype=float32, numpy=array([[2.5800555]], dtype=float32)>),\n",
       "  (<tf.Tensor: id=577, shape=(1,), dtype=float32, numpy=array([-0.3927026], dtype=float32)>,\n",
       "   <tf.Variable 'dense/bias:0' shape=(1,) dtype=float32, numpy=array([1.7785621], dtype=float32)>)])"
      ]
     },
     "execution_count": 15,
     "metadata": {},
     "output_type": "execute_result"
    }
   ],
   "source": [
    "# tfe.implicit_value_and_gradients() demo\n",
    "value_gradients_fn = tfe.implicit_value_and_gradients(loss_fn)\n",
    "\n",
    "# Returns the value returned by the function passed in, gradients, and variables:\n",
    "value_gradients_fn(inputs, labels, wb)"
   ]
  },
  {
   "cell_type": "code",
   "execution_count": null,
   "metadata": {},
   "outputs": [],
   "source": []
  }
 ],
 "metadata": {
  "kernelspec": {
   "display_name": "Python 3",
   "language": "python",
   "name": "python3"
  },
  "language_info": {
   "codemirror_mode": {
    "name": "ipython",
    "version": 3
   },
   "file_extension": ".py",
   "mimetype": "text/x-python",
   "name": "python",
   "nbconvert_exporter": "python",
   "pygments_lexer": "ipython3",
   "version": "3.5.2"
  }
 },
 "nbformat": 4,
 "nbformat_minor": 2
}
