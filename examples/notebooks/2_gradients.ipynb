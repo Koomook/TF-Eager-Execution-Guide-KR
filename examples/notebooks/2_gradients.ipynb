{
 "cells": [
  {
   "cell_type": "code",
   "execution_count": 1,
   "metadata": {},
   "outputs": [
    {
     "name": "stdout",
     "output_type": "stream",
     "text": [
      "WARNING:tensorflow:From /usr/local/lib/python3.5/dist-packages/tensorflow/contrib/learn/python/learn/datasets/base.py:198: retry (from tensorflow.contrib.learn.python.learn.datasets.base) is deprecated and will be removed in a future version.\n",
      "Instructions for updating:\n",
      "Use the retry module or similar alternatives.\n",
      "TensorFlow version: 1.7.0\n",
      "Eager execution: True\n"
     ]
    }
   ],
   "source": [
    "from __future__ import absolute_import, division, print_function\n",
    "\n",
    "import os\n",
    "import matplotlib.pyplot as plt\n",
    "\n",
    "import tensorflow as tf\n",
    "import tensorflow.contrib.eager as tfe\n",
    "\n",
    "tf.enable_eager_execution()\n",
    "\n",
    "print(\"TensorFlow version: {}\".format(tf.VERSION))\n",
    "print(\"Eager execution: {}\".format(tf.executing_eagerly()))"
   ]
  },
  {
   "cell_type": "code",
   "execution_count": 2,
   "metadata": {},
   "outputs": [],
   "source": [
    "# 우리가 피팅시킬 변수들:\n",
    "true_w = 3\n",
    "true_b = 2\n",
    "\n",
    "NUM_EXAMPLES = 1000\n",
    "\n",
    "# 입력:\n",
    "inputs = tf.random_normal(shape=[NUM_EXAMPLES, 1])\n",
    "\n",
    "# 노이즈를 포함한 레이블 :\n",
    "noise = tf.random_normal(shape=[NUM_EXAMPLES, 1])\n",
    "labels = inputs * true_w + true_b + noise"
   ]
  },
  {
   "cell_type": "code",
   "execution_count": 3,
   "metadata": {},
   "outputs": [
    {
     "data": {
      "image/png": "[encoded data removed]",
      "text/plain": [
       "<matplotlib.figure.Figure at 0x7fa0407afdd8>"
      ]
     },
     "metadata": {},
     "output_type": "display_data"
    }
   ],
   "source": [
    "# 데이터 시각화 (Optional)\n",
    "\n",
    "import matplotlib.pyplot as plt\n",
    "%matplotlib inline\n",
    "\n",
    "plt.scatter(inputs.numpy(), labels.numpy())\n",
    "plt.show()"
   ]
  },
  {
   "cell_type": "code",
   "execution_count": 4,
   "metadata": {},
   "outputs": [
    {
     "data": {
      "text/plain": [
       "[]"
      ]
     },
     "execution_count": 4,
     "metadata": {},
     "output_type": "execute_result"
    }
   ],
   "source": [
    "# Keras의 Dense layer를 이용하여 TensorFlow 변수 생성\n",
    "\n",
    "wb = tf.layers.Dense(units=1, use_bias=True)\n",
    "\n",
    "# wb.variables를 통해서 TensorFlow 변수 내부에 접근 가능합니다.\n",
    "# 하지만 변수는 입력 Tensor를 알기전까진 존재하지 않습니다.\n",
    "# 입력 텐서의 차원이 한번 정해지고 나먼, keras는 변수를 생성하고 초기화 합니다. \n",
    "# 그 전까진 Keras는 변수를 빈 리스트: []로 보고합니다.\n",
    "\n",
    "wb.variables"
   ]
  },
  {
   "cell_type": "code",
   "execution_count": 5,
   "metadata": {},
   "outputs": [],
   "source": [
    "def loss_fn(inputs, labels, wb):\n",
    "  \"\"\"선형 모델의 L2 loss를 계산힙니다.\"\"\"\n",
    "  predictions = wb(inputs)\n",
    "  return tf.reduce_mean(tf.square(predictions - labels))"
   ]
  },
  {
   "cell_type": "code",
   "execution_count": 6,
   "metadata": {},
   "outputs": [
    {
     "data": {
      "text/plain": [
       "<tf.Tensor: id=49, shape=(), dtype=float32, numpy=27.818464>"
      ]
     },
     "execution_count": 6,
     "metadata": {},
     "output_type": "execute_result"
    }
   ],
   "source": [
    "# 손실 함수 평가하기 (optional).\n",
    "\n",
    "loss_fn(inputs, labels, wb)"
   ]
  },
  {
   "cell_type": "code",
   "execution_count": 7,
   "metadata": {},
   "outputs": [
    {
     "name": "stdout",
     "output_type": "stream",
     "text": [
      "w: tf.Tensor([[-1.6239487]], shape=(1, 1), dtype=float32)\n",
      "b: tf.Tensor([0.], shape=(1,), dtype=float32)\n"
     ]
    }
   ],
   "source": [
    "# 이때, 변수가 존재하게 되며, 질의에 대한 처리를 할 수 있습니다:\n",
    "\n",
    "w, b = wb.variables\n",
    "print(\"w: \" + str(w.read_value()))\n",
    "print(\"b: \" + str(b.read_value()))"
   ]
  },
  {
   "cell_type": "code",
   "execution_count": 8,
   "metadata": {},
   "outputs": [],
   "source": [
    "# 경사 함수를 만듭니다. \n",
    "# 반환되는 함수의 형태에 대한 설명을 참고하시기 바랍니다. \n",
    "\n",
    "value_and_gradients_fn = tfe.implicit_value_and_gradients(loss_fn)"
   ]
  },
  {
   "cell_type": "code",
   "execution_count": 9,
   "metadata": {},
   "outputs": [
    {
     "name": "stdout",
     "output_type": "stream",
     "text": [
      "Outputs of value_and_gradients_fn:\n",
      "Loss: 27.818464279174805\n",
      "\n",
      "Gradient: [[-9.616679]]\n",
      "Variable: <tf.Variable 'dense/kernel:0' shape=(1, 1) dtype=float32, numpy=array([[-1.6239487]], dtype=float32)>\n",
      "\n",
      "Gradient: [-4.510632]\n",
      "Variable: <tf.Variable 'dense/bias:0' shape=(1,) dtype=float32, numpy=array([0.], dtype=float32)>\n"
     ]
    }
   ],
   "source": [
    "# value_and_gradients_fn의 출력을 확인합니다.\n",
    "\n",
    "print(\"Outputs of value_and_gradients_fn:\")\n",
    "\n",
    "value, grads_and_vars = value_and_gradients_fn(inputs, labels, wb)\n",
    "\n",
    "print('Loss: {}'.format(value))\n",
    "for (grad, var) in grads_and_vars:\n",
    "  print(\"\")\n",
    "  print('Gradient: {}\\nVariable: {}'.format(grad, var))"
   ]
  },
  {
   "cell_type": "code",
   "execution_count": 10,
   "metadata": {},
   "outputs": [],
   "source": [
    "optimizer = tf.train.GradientDescentOptimizer(learning_rate=0.1)"
   ]
  },
  {
   "cell_type": "code",
   "execution_count": 11,
   "metadata": {},
   "outputs": [
    {
     "name": "stdout",
     "output_type": "stream",
     "text": [
      "Values of w, b, BEFORE applying gradients:\n",
      "[[-1.6239487]] [0.]\n",
      "\n",
      "Values of w, b, AFTER applying gradients:\n",
      "[[-0.66228074]] [0.45106322]\n"
     ]
    }
   ],
   "source": [
    "# optimizer를 평가합니다.\n",
    "\n",
    "print(\"Values of w, b, BEFORE applying gradients:\")\n",
    "w, b = wb.variables\n",
    "print(w.read_value().numpy(), b.read_value().numpy())\n",
    "print()\n",
    "\n",
    "# 경사를 계산합니다:\n",
    "empirical_loss, gradients_and_variables = value_and_gradients_fn(\n",
    "    inputs, labels, wb)\n",
    "optimizer.apply_gradients(gradients_and_variables)\n",
    "\n",
    "print(\"Values of w, b, AFTER applying gradients:\")\n",
    "print(w.read_value().numpy(), b.read_value().numpy())"
   ]
  },
  {
   "cell_type": "code",
   "execution_count": 12,
   "metadata": {},
   "outputs": [
    {
     "name": "stdout",
     "output_type": "stream",
     "text": [
      "[0.10077929496765137, 0.7063601016998291, 1.1870520114898682, 1.56868314743042, 1.871726155281067, 2.1124112606048584, 2.303607702255249, 2.455521583557129, 2.5762484073638916, 2.672210216522217]\n"
     ]
    },
    {
     "data": {
      "image/png": "[encoded data removed]",
      "text/plain": [
       "<matplotlib.figure.Figure at 0x7fa03550d7b8>"
      ]
     },
     "metadata": {},
     "output_type": "display_data"
    }
   ],
   "source": [
    "# 변수를 학습시킵니다.\n",
    "\n",
    "# numpy 는 asscalar() 함수를 위해 사용됩니다.\n",
    "import numpy as np\n",
    "\n",
    "num_training_steps = 10\n",
    "\n",
    "def train_model(inputs, labels, wb, optimizer, num_training_steps):\n",
    "  loss_at_step = []\n",
    "  w_at_step = []\n",
    "  b_at_step = []\n",
    "  for step_num in range(num_training_steps):\n",
    "    loss, gradients_and_variables = value_and_gradients_fn(inputs, labels, wb)\n",
    "    loss_at_step.append(np.asscalar(loss.numpy()))\n",
    "    \n",
    "    optimizer.apply_gradients(gradients_and_variables)\n",
    "    w, b = wb.variables\n",
    "    w_at_step.append(np.asscalar(w.read_value().numpy()))\n",
    "    b_at_step.append(np.asscalar(b.read_value().numpy()))\n",
    "\n",
    "  print(w_at_step)\n",
    "  t = range(0, num_training_steps)\n",
    "  plt.plot(t, loss_at_step, 'k',\n",
    "           t, w_at_step, 'r',\n",
    "           t, [true_w] * num_training_steps, 'r--',\n",
    "           t, b_at_step, 'b',\n",
    "           t, [true_b] * num_training_steps, 'b--')\n",
    "  plt.legend(['loss', 'w estimate', 'w true', 'b estimate', 'b true'])\n",
    "  plt.show()\n",
    "\n",
    "train_model(inputs, labels, wb, optimizer, num_training_steps)"
   ]
  },
  {
   "cell_type": "code",
   "execution_count": 14,
   "metadata": {},
   "outputs": [
    {
     "data": {
      "text/plain": [
       "[(<tf.Tensor: id=371, shape=(1, 1), dtype=float32, numpy=array([[-0.7629264]], dtype=float32)>,\n",
       "  <tf.Variable 'dense/kernel:0' shape=(1, 1) dtype=float32, numpy=array([[2.6722102]], dtype=float32)>),\n",
       " (<tf.Tensor: id=369, shape=(1,), dtype=float32, numpy=array([-0.25181565], dtype=float32)>,\n",
       "  <tf.Variable 'dense/bias:0' shape=(1,) dtype=float32, numpy=array([1.8629888], dtype=float32)>)]"
      ]
     },
     "execution_count": 14,
     "metadata": {},
     "output_type": "execute_result"
    }
   ],
   "source": [
    "# tfe.implicit_gradients() 데모\n",
    "gradients_fn = tfe.implicit_gradients(loss_fn)\n",
    "\n",
    "# 경사와 변수만 반환합니다:\n",
    "gradients_fn(inputs, labels, wb)"
   ]
  },
  {
   "cell_type": "code",
   "execution_count": 15,
   "metadata": {},
   "outputs": [
    {
     "data": {
      "text/plain": [
       "(<tf.Tensor: id=385, shape=(), dtype=float32, numpy=1.0860538>,\n",
       " [(<tf.Tensor: id=396, shape=(1, 1), dtype=float32, numpy=array([[-0.7629264]], dtype=float32)>,\n",
       "   <tf.Variable 'dense/kernel:0' shape=(1, 1) dtype=float32, numpy=array([[2.6722102]], dtype=float32)>),\n",
       "  (<tf.Tensor: id=394, shape=(1,), dtype=float32, numpy=array([-0.25181565], dtype=float32)>,\n",
       "   <tf.Variable 'dense/bias:0' shape=(1,) dtype=float32, numpy=array([1.8629888], dtype=float32)>)])"
      ]
     },
     "execution_count": 15,
     "metadata": {},
     "output_type": "execute_result"
    }
   ],
   "source": [
    "# tfe.implicit_value_and_gradients() 데모\n",
    "value_gradients_fn = tfe.implicit_value_and_gradients(loss_fn)\n",
    "\n",
    "# 입력받은 함수와 경사, 변수에 의해 값을 반환합니다. \n",
    "value_gradients_fn(inputs, labels, wb)"
   ]
  },
  {
   "cell_type": "code",
   "execution_count": null,
   "metadata": {},
   "outputs": [],
   "source": []
  }
 ],
 "metadata": {
  "kernelspec": {
   "display_name": "Python 3",
   "language": "python",
   "name": "python3"
  },
  "language_info": {
   "codemirror_mode": {
    "name": "ipython",
    "version": 3
   },
   "file_extension": ".py",
   "mimetype": "text/x-python",
   "name": "python",
   "nbconvert_exporter": "python",
   "pygments_lexer": "ipython3",
   "version": "3.5.2"
  }
 },
 "nbformat": 4,
 "nbformat_minor": 2
}
